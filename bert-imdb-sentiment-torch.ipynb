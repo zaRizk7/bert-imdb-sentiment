{
 "cells": [
  {
   "cell_type": "markdown",
   "id": "advisory-explosion",
   "metadata": {
    "papermill": {
     "duration": 0.01419,
     "end_time": "2021-05-30T17:12:15.055625",
     "exception": false,
     "start_time": "2021-05-30T17:12:15.041435",
     "status": "completed"
    },
    "tags": []
   },
   "source": [
    "# Check for GPU"
   ]
  },
  {
   "cell_type": "code",
   "execution_count": 1,
   "id": "intermediate-roberts",
   "metadata": {
    "execution": {
     "iopub.execute_input": "2021-05-30T17:12:15.091046Z",
     "iopub.status.busy": "2021-05-30T17:12:15.090547Z",
     "iopub.status.idle": "2021-05-30T17:12:15.734676Z",
     "shell.execute_reply": "2021-05-30T17:12:15.734039Z",
     "shell.execute_reply.started": "2021-05-30T15:28:26.334082Z"
    },
    "papermill": {
     "duration": 0.66637,
     "end_time": "2021-05-30T17:12:15.734822",
     "exception": false,
     "start_time": "2021-05-30T17:12:15.068452",
     "status": "completed"
    },
    "tags": []
   },
   "outputs": [
    {
     "name": "stdout",
     "output_type": "stream",
     "text": [
      "GPU 0: Tesla P100-PCIE-16GB (UUID: GPU-e4e07f4b-d399-eb04-8bc7-bb00d0cd51f8)\r\n"
     ]
    }
   ],
   "source": [
    "!nvidia-smi -L"
   ]
  },
  {
   "cell_type": "markdown",
   "id": "heated-ticket",
   "metadata": {
    "papermill": {
     "duration": 0.01274,
     "end_time": "2021-05-30T17:12:15.760856",
     "exception": false,
     "start_time": "2021-05-30T17:12:15.748116",
     "status": "completed"
    },
    "tags": []
   },
   "source": [
    "# Initial Imports"
   ]
  },
  {
   "cell_type": "code",
   "execution_count": 2,
   "id": "direct-moscow",
   "metadata": {
    "_cell_guid": "b1076dfc-b9ad-4769-8c92-a6c4dae69d19",
    "_uuid": "8f2839f25d086af736a60e9eeb907d3b93b6e0e5",
    "execution": {
     "iopub.execute_input": "2021-05-30T17:12:15.793357Z",
     "iopub.status.busy": "2021-05-30T17:12:15.792649Z",
     "iopub.status.idle": "2021-05-30T17:12:17.001584Z",
     "shell.execute_reply": "2021-05-30T17:12:17.001059Z",
     "shell.execute_reply.started": "2021-05-30T15:28:26.990394Z"
    },
    "papermill": {
     "duration": 1.228071,
     "end_time": "2021-05-30T17:12:17.001716",
     "exception": false,
     "start_time": "2021-05-30T17:12:15.773645",
     "status": "completed"
    },
    "tags": []
   },
   "outputs": [
    {
     "name": "stdout",
     "output_type": "stream",
     "text": [
      "Using CUDA\n",
      "/kaggle/input/imdb-dataset-of-50k-movie-reviews/IMDB Dataset.csv\n"
     ]
    }
   ],
   "source": [
    "import numpy as np\n",
    "import pandas as pd\n",
    "import torch\n",
    "\n",
    "device = torch.device('cuda' if torch.cuda.is_available() else 'cpu')\n",
    "\n",
    "print(f'Using {device.type.upper()}')\n",
    "\n",
    "import os\n",
    "for dirname, _, filenames in os.walk('/kaggle/input'):\n",
    "    for filename in filenames:\n",
    "        print(os.path.join(dirname, filename))"
   ]
  },
  {
   "cell_type": "markdown",
   "id": "secure-passport",
   "metadata": {
    "papermill": {
     "duration": 0.013015,
     "end_time": "2021-05-30T17:12:17.027975",
     "exception": false,
     "start_time": "2021-05-30T17:12:17.014960",
     "status": "completed"
    },
    "tags": []
   },
   "source": [
    "## Text Cleaning"
   ]
  },
  {
   "cell_type": "code",
   "execution_count": 3,
   "id": "residential-crest",
   "metadata": {
    "execution": {
     "iopub.execute_input": "2021-05-30T17:12:17.059492Z",
     "iopub.status.busy": "2021-05-30T17:12:17.058706Z",
     "iopub.status.idle": "2021-05-30T17:12:17.061171Z",
     "shell.execute_reply": "2021-05-30T17:12:17.061575Z",
     "shell.execute_reply.started": "2021-05-30T15:28:28.065940Z"
    },
    "papermill": {
     "duration": 0.020182,
     "end_time": "2021-05-30T17:12:17.061732",
     "exception": false,
     "start_time": "2021-05-30T17:12:17.041550",
     "status": "completed"
    },
    "tags": []
   },
   "outputs": [],
   "source": [
    "import re\n",
    "import string\n",
    "\n",
    "def remove_html_tag(text): \n",
    "    return re.sub(\n",
    "        '<.*?>|&([a-z0-9]+|#[0-9]{1,6}|#x[0-9a-f]{1,6});', \n",
    "        '', text)"
   ]
  },
  {
   "cell_type": "markdown",
   "id": "favorite-discovery",
   "metadata": {
    "papermill": {
     "duration": 0.012959,
     "end_time": "2021-05-30T17:12:17.088009",
     "exception": false,
     "start_time": "2021-05-30T17:12:17.075050",
     "status": "completed"
    },
    "tags": []
   },
   "source": [
    "## Load Dataset and Clean Text"
   ]
  },
  {
   "cell_type": "code",
   "execution_count": 4,
   "id": "located-sunrise",
   "metadata": {
    "execution": {
     "iopub.execute_input": "2021-05-30T17:12:17.120509Z",
     "iopub.status.busy": "2021-05-30T17:12:17.119920Z",
     "iopub.status.idle": "2021-05-30T17:12:19.956624Z",
     "shell.execute_reply": "2021-05-30T17:12:19.955811Z",
     "shell.execute_reply.started": "2021-05-30T15:28:28.073433Z"
    },
    "papermill": {
     "duration": 2.855056,
     "end_time": "2021-05-30T17:12:19.956759",
     "exception": false,
     "start_time": "2021-05-30T17:12:17.101703",
     "status": "completed"
    },
    "tags": []
   },
   "outputs": [
    {
     "data": {
      "text/html": [
       "<div>\n",
       "<style scoped>\n",
       "    .dataframe tbody tr th:only-of-type {\n",
       "        vertical-align: middle;\n",
       "    }\n",
       "\n",
       "    .dataframe tbody tr th {\n",
       "        vertical-align: top;\n",
       "    }\n",
       "\n",
       "    .dataframe thead th {\n",
       "        text-align: right;\n",
       "    }\n",
       "</style>\n",
       "<table border=\"1\" class=\"dataframe\">\n",
       "  <thead>\n",
       "    <tr style=\"text-align: right;\">\n",
       "      <th></th>\n",
       "      <th>review</th>\n",
       "      <th>sentiment</th>\n",
       "      <th>clean_text</th>\n",
       "    </tr>\n",
       "  </thead>\n",
       "  <tbody>\n",
       "    <tr>\n",
       "      <th>0</th>\n",
       "      <td>One of the other reviewers has mentioned that ...</td>\n",
       "      <td>positive</td>\n",
       "      <td>One of the other reviewers has mentioned that ...</td>\n",
       "    </tr>\n",
       "    <tr>\n",
       "      <th>1</th>\n",
       "      <td>A wonderful little production. &lt;br /&gt;&lt;br /&gt;The...</td>\n",
       "      <td>positive</td>\n",
       "      <td>A wonderful little production. The filming tec...</td>\n",
       "    </tr>\n",
       "    <tr>\n",
       "      <th>2</th>\n",
       "      <td>I thought this was a wonderful way to spend ti...</td>\n",
       "      <td>positive</td>\n",
       "      <td>I thought this was a wonderful way to spend ti...</td>\n",
       "    </tr>\n",
       "    <tr>\n",
       "      <th>3</th>\n",
       "      <td>Basically there's a family where a little boy ...</td>\n",
       "      <td>negative</td>\n",
       "      <td>Basically there's a family where a little boy ...</td>\n",
       "    </tr>\n",
       "    <tr>\n",
       "      <th>4</th>\n",
       "      <td>Petter Mattei's \"Love in the Time of Money\" is...</td>\n",
       "      <td>positive</td>\n",
       "      <td>Petter Mattei's \"Love in the Time of Money\" is...</td>\n",
       "    </tr>\n",
       "    <tr>\n",
       "      <th>...</th>\n",
       "      <td>...</td>\n",
       "      <td>...</td>\n",
       "      <td>...</td>\n",
       "    </tr>\n",
       "    <tr>\n",
       "      <th>49995</th>\n",
       "      <td>I thought this movie did a down right good job...</td>\n",
       "      <td>positive</td>\n",
       "      <td>I thought this movie did a down right good job...</td>\n",
       "    </tr>\n",
       "    <tr>\n",
       "      <th>49996</th>\n",
       "      <td>Bad plot, bad dialogue, bad acting, idiotic di...</td>\n",
       "      <td>negative</td>\n",
       "      <td>Bad plot, bad dialogue, bad acting, idiotic di...</td>\n",
       "    </tr>\n",
       "    <tr>\n",
       "      <th>49997</th>\n",
       "      <td>I am a Catholic taught in parochial elementary...</td>\n",
       "      <td>negative</td>\n",
       "      <td>I am a Catholic taught in parochial elementary...</td>\n",
       "    </tr>\n",
       "    <tr>\n",
       "      <th>49998</th>\n",
       "      <td>I'm going to have to disagree with the previou...</td>\n",
       "      <td>negative</td>\n",
       "      <td>I'm going to have to disagree with the previou...</td>\n",
       "    </tr>\n",
       "    <tr>\n",
       "      <th>49999</th>\n",
       "      <td>No one expects the Star Trek movies to be high...</td>\n",
       "      <td>negative</td>\n",
       "      <td>No one expects the Star Trek movies to be high...</td>\n",
       "    </tr>\n",
       "  </tbody>\n",
       "</table>\n",
       "<p>50000 rows × 3 columns</p>\n",
       "</div>"
      ],
      "text/plain": [
       "                                                  review sentiment  \\\n",
       "0      One of the other reviewers has mentioned that ...  positive   \n",
       "1      A wonderful little production. <br /><br />The...  positive   \n",
       "2      I thought this was a wonderful way to spend ti...  positive   \n",
       "3      Basically there's a family where a little boy ...  negative   \n",
       "4      Petter Mattei's \"Love in the Time of Money\" is...  positive   \n",
       "...                                                  ...       ...   \n",
       "49995  I thought this movie did a down right good job...  positive   \n",
       "49996  Bad plot, bad dialogue, bad acting, idiotic di...  negative   \n",
       "49997  I am a Catholic taught in parochial elementary...  negative   \n",
       "49998  I'm going to have to disagree with the previou...  negative   \n",
       "49999  No one expects the Star Trek movies to be high...  negative   \n",
       "\n",
       "                                              clean_text  \n",
       "0      One of the other reviewers has mentioned that ...  \n",
       "1      A wonderful little production. The filming tec...  \n",
       "2      I thought this was a wonderful way to spend ti...  \n",
       "3      Basically there's a family where a little boy ...  \n",
       "4      Petter Mattei's \"Love in the Time of Money\" is...  \n",
       "...                                                  ...  \n",
       "49995  I thought this movie did a down right good job...  \n",
       "49996  Bad plot, bad dialogue, bad acting, idiotic di...  \n",
       "49997  I am a Catholic taught in parochial elementary...  \n",
       "49998  I'm going to have to disagree with the previou...  \n",
       "49999  No one expects the Star Trek movies to be high...  \n",
       "\n",
       "[50000 rows x 3 columns]"
      ]
     },
     "execution_count": 4,
     "metadata": {},
     "output_type": "execute_result"
    }
   ],
   "source": [
    "df = pd.read_csv('/kaggle/input/imdb-dataset-of-50k-movie-reviews/IMDB Dataset.csv')\n",
    "df['clean_text'] = df.review.apply(remove_html_tag)\n",
    "df"
   ]
  },
  {
   "cell_type": "markdown",
   "id": "generous-audience",
   "metadata": {
    "papermill": {
     "duration": 0.01351,
     "end_time": "2021-05-30T17:12:19.984489",
     "exception": false,
     "start_time": "2021-05-30T17:12:19.970979",
     "status": "completed"
    },
    "tags": []
   },
   "source": [
    "## Token Length Exploration"
   ]
  },
  {
   "cell_type": "code",
   "execution_count": 5,
   "id": "advised-sheep",
   "metadata": {
    "execution": {
     "iopub.execute_input": "2021-05-30T17:12:20.016730Z",
     "iopub.status.busy": "2021-05-30T17:12:20.015894Z",
     "iopub.status.idle": "2021-05-30T17:12:20.566646Z",
     "shell.execute_reply": "2021-05-30T17:12:20.567065Z",
     "shell.execute_reply.started": "2021-05-30T15:28:30.704345Z"
    },
    "papermill": {
     "duration": 0.568771,
     "end_time": "2021-05-30T17:12:20.567240",
     "exception": false,
     "start_time": "2021-05-30T17:12:19.998469",
     "status": "completed"
    },
    "tags": []
   },
   "outputs": [
    {
     "data": {
      "text/plain": [
       "count    50000.00000\n",
       "mean       227.10428\n",
       "std        168.26324\n",
       "min          4.00000\n",
       "25%        124.00000\n",
       "50%        170.00000\n",
       "75%        275.00000\n",
       "max       2450.00000\n",
       "Name: clean_text, dtype: float64"
      ]
     },
     "execution_count": 5,
     "metadata": {},
     "output_type": "execute_result"
    }
   ],
   "source": [
    "df.clean_text.apply(lambda x: len(x.split(' '))).describe()"
   ]
  },
  {
   "cell_type": "markdown",
   "id": "dedicated-transportation",
   "metadata": {
    "papermill": {
     "duration": 0.014212,
     "end_time": "2021-05-30T17:12:20.595890",
     "exception": false,
     "start_time": "2021-05-30T17:12:20.581678",
     "status": "completed"
    },
    "tags": []
   },
   "source": [
    "## Data Preparation"
   ]
  },
  {
   "cell_type": "code",
   "execution_count": 6,
   "id": "paperback-democracy",
   "metadata": {
    "execution": {
     "iopub.execute_input": "2021-05-30T17:12:20.628277Z",
     "iopub.status.busy": "2021-05-30T17:12:20.627603Z",
     "iopub.status.idle": "2021-05-30T17:12:21.417054Z",
     "shell.execute_reply": "2021-05-30T17:12:21.416289Z",
     "shell.execute_reply.started": "2021-05-30T15:28:31.262889Z"
    },
    "papermill": {
     "duration": 0.807437,
     "end_time": "2021-05-30T17:12:21.417184",
     "exception": false,
     "start_time": "2021-05-30T17:12:20.609747",
     "status": "completed"
    },
    "tags": []
   },
   "outputs": [],
   "source": [
    "from sklearn.model_selection import train_test_split\n",
    "\n",
    "df_train, df_test = train_test_split(df, test_size=0.2, random_state=42)\n",
    "df_train = df_train.reset_index()\n",
    "df_test = df_test.reset_index()"
   ]
  },
  {
   "cell_type": "code",
   "execution_count": 7,
   "id": "accomplished-giving",
   "metadata": {
    "execution": {
     "iopub.execute_input": "2021-05-30T17:12:21.557019Z",
     "iopub.status.busy": "2021-05-30T17:12:21.555320Z",
     "iopub.status.idle": "2021-05-30T17:12:21.557611Z",
     "shell.execute_reply": "2021-05-30T17:12:21.558011Z",
     "shell.execute_reply.started": "2021-05-30T15:28:32.089959Z"
    },
    "papermill": {
     "duration": 0.126808,
     "end_time": "2021-05-30T17:12:21.558157",
     "exception": false,
     "start_time": "2021-05-30T17:12:21.431349",
     "status": "completed"
    },
    "tags": []
   },
   "outputs": [],
   "source": [
    "class BertDataset(torch.utils.data.Dataset):\n",
    "    def __init__(self, df, bert_model_name='bert-base-cased'):\n",
    "        self.review = df.clean_text\n",
    "        self.sentiment = df.sentiment.apply(lambda x: 1 if x == 'positive' else 0)\n",
    "        self.tokenizer = BertTokenizerFast.from_pretrained(bert_model_name)\n",
    "        \n",
    "    def __len__(self):\n",
    "        return len(self.sentiment)\n",
    "    \n",
    "    def __getitem__(self, idx):\n",
    "        x = self.tokenize(self.review[idx])\n",
    "        for key in x:\n",
    "            x[key] = x[key].view(-1).to(device)\n",
    "        y = self.sentiment[idx]\n",
    "        return x, y\n",
    "    \n",
    "    def tokenize(self, x):\n",
    "        x = self.tokenizer(x, max_length=256, padding='max_length', \n",
    "                              truncation=True, return_tensors='pt')\n",
    "        return x"
   ]
  },
  {
   "cell_type": "code",
   "execution_count": 8,
   "id": "willing-grenada",
   "metadata": {
    "execution": {
     "iopub.execute_input": "2021-05-30T17:12:21.591351Z",
     "iopub.status.busy": "2021-05-30T17:12:21.590675Z",
     "iopub.status.idle": "2021-05-30T17:12:28.190356Z",
     "shell.execute_reply": "2021-05-30T17:12:28.189895Z",
     "shell.execute_reply.started": "2021-05-30T15:28:32.100782Z"
    },
    "papermill": {
     "duration": 6.618098,
     "end_time": "2021-05-30T17:12:28.190494",
     "exception": false,
     "start_time": "2021-05-30T17:12:21.572396",
     "status": "completed"
    },
    "tags": []
   },
   "outputs": [
    {
     "data": {
      "application/vnd.jupyter.widget-view+json": {
       "model_id": "0389683bddac4cf1b33cfc85847709a9",
       "version_major": 2,
       "version_minor": 0
      },
      "text/plain": [
       "Downloading:   0%|          | 0.00/213k [00:00<?, ?B/s]"
      ]
     },
     "metadata": {},
     "output_type": "display_data"
    },
    {
     "data": {
      "application/vnd.jupyter.widget-view+json": {
       "model_id": "f25d36b979234bbbb43c5e92bcf95373",
       "version_major": 2,
       "version_minor": 0
      },
      "text/plain": [
       "Downloading:   0%|          | 0.00/436k [00:00<?, ?B/s]"
      ]
     },
     "metadata": {},
     "output_type": "display_data"
    },
    {
     "data": {
      "application/vnd.jupyter.widget-view+json": {
       "model_id": "90fab02c200a4f8db32a74a3167f8c8c",
       "version_major": 2,
       "version_minor": 0
      },
      "text/plain": [
       "Downloading:   0%|          | 0.00/29.0 [00:00<?, ?B/s]"
      ]
     },
     "metadata": {},
     "output_type": "display_data"
    }
   ],
   "source": [
    "from transformers import BertTokenizerFast\n",
    "\n",
    "trainloader = torch.utils.data.DataLoader(BertDataset(df_train), batch_size=32)\n",
    "testloader = torch.utils.data.DataLoader(BertDataset(df_test), batch_size=32)"
   ]
  },
  {
   "cell_type": "markdown",
   "id": "olive-internet",
   "metadata": {
    "papermill": {
     "duration": 0.01491,
     "end_time": "2021-05-30T17:12:28.220818",
     "exception": false,
     "start_time": "2021-05-30T17:12:28.205908",
     "status": "completed"
    },
    "tags": []
   },
   "source": [
    "# Model Definition and Training"
   ]
  },
  {
   "cell_type": "code",
   "execution_count": 9,
   "id": "previous-highlight",
   "metadata": {
    "execution": {
     "iopub.execute_input": "2021-05-30T17:12:28.258224Z",
     "iopub.status.busy": "2021-05-30T17:12:28.257416Z",
     "iopub.status.idle": "2021-05-30T17:12:28.287650Z",
     "shell.execute_reply": "2021-05-30T17:12:28.287214Z",
     "shell.execute_reply.started": "2021-05-30T15:28:38.729210Z"
    },
    "papermill": {
     "duration": 0.051764,
     "end_time": "2021-05-30T17:12:28.287767",
     "exception": false,
     "start_time": "2021-05-30T17:12:28.236003",
     "status": "completed"
    },
    "tags": []
   },
   "outputs": [],
   "source": [
    "from transformers import BertModel\n",
    "\n",
    "class BertClassifier(torch.nn.Module):\n",
    "    def __init__(self, bert_model_name='bert-base-cased', bert_freeze=False):\n",
    "        super(BertClassifier, self).__init__()\n",
    "        self.bert = BertModel.from_pretrained(bert_model_name)\n",
    "        for param in self.bert.parameters():\n",
    "            param.requires_grad = False if bert_freeze else True\n",
    "        self.dropout = torch.nn.Dropout(0.1)\n",
    "        self.classifier = torch.nn.Linear(768, 1)\n",
    "        \n",
    "    def forward(self, input_ids, attention_mask, token_type_ids):\n",
    "        out = self.bert(input_ids, attention_mask, token_type_ids).pooler_output\n",
    "        out = self.dropout(out)\n",
    "        out = torch.sigmoid(self.classifier(out)).view(-1)\n",
    "        return out"
   ]
  },
  {
   "cell_type": "code",
   "execution_count": 10,
   "id": "lyric-investor",
   "metadata": {
    "execution": {
     "iopub.execute_input": "2021-05-30T17:12:28.322640Z",
     "iopub.status.busy": "2021-05-30T17:12:28.321834Z",
     "iopub.status.idle": "2021-05-30T17:12:47.038584Z",
     "shell.execute_reply": "2021-05-30T17:12:47.038016Z",
     "shell.execute_reply.started": "2021-05-30T15:28:38.766510Z"
    },
    "papermill": {
     "duration": 18.735914,
     "end_time": "2021-05-30T17:12:47.038737",
     "exception": false,
     "start_time": "2021-05-30T17:12:28.302823",
     "status": "completed"
    },
    "tags": []
   },
   "outputs": [
    {
     "data": {
      "application/vnd.jupyter.widget-view+json": {
       "model_id": "3b7c72a53e754dcca790f91302dbd9e3",
       "version_major": 2,
       "version_minor": 0
      },
      "text/plain": [
       "Downloading:   0%|          | 0.00/570 [00:00<?, ?B/s]"
      ]
     },
     "metadata": {},
     "output_type": "display_data"
    },
    {
     "data": {
      "application/vnd.jupyter.widget-view+json": {
       "model_id": "4b8543ee47204b19bbb7051fff234be3",
       "version_major": 2,
       "version_minor": 0
      },
      "text/plain": [
       "Downloading:   0%|          | 0.00/436M [00:00<?, ?B/s]"
      ]
     },
     "metadata": {},
     "output_type": "display_data"
    }
   ],
   "source": [
    "model = BertClassifier().to(device)\n",
    "optimizer = torch.optim.Adam(model.parameters(), 2e-5)\n",
    "loss = torch.nn.BCELoss()"
   ]
  },
  {
   "cell_type": "code",
   "execution_count": 11,
   "id": "rational-means",
   "metadata": {
    "execution": {
     "iopub.execute_input": "2021-05-30T17:12:47.085922Z",
     "iopub.status.busy": "2021-05-30T17:12:47.085112Z",
     "iopub.status.idle": "2021-05-30T17:12:47.087373Z",
     "shell.execute_reply": "2021-05-30T17:12:47.087739Z",
     "shell.execute_reply.started": "2021-05-30T15:28:57.009797Z"
    },
    "papermill": {
     "duration": 0.03224,
     "end_time": "2021-05-30T17:12:47.087868",
     "exception": false,
     "start_time": "2021-05-30T17:12:47.055628",
     "status": "completed"
    },
    "tags": []
   },
   "outputs": [],
   "source": [
    "from tqdm import tqdm\n",
    "from sklearn.metrics import accuracy_score\n",
    "\n",
    "def train(epoch, model, optimizer, loss_fn, dataloader):\n",
    "    # Enable training\n",
    "    model.train()\n",
    "    with tqdm(dataloader, total=len(dataloader)) as pbar:\n",
    "        accuracy = []\n",
    "        losses = []\n",
    "        pbar.set_description('Epoch %d - Training\\t' %(epoch + 1))\n",
    "        for x, y in pbar:\n",
    "            # zero the parameter gradients\n",
    "            optimizer.zero_grad()\n",
    "            \n",
    "            # Convert label for specified device and to float type\n",
    "            y = y.to(device).float()\n",
    "                \n",
    "            # Update weights and parameters by, forward + backward + optimize\n",
    "            y_pred = model(**x)\n",
    "            loss = loss_fn(y_pred, y)\n",
    "            loss.backward()\n",
    "            optimizer.step()\n",
    "            \n",
    "            # Convert tensors to CPU mode and integer type\n",
    "            y = y.cpu().int()\n",
    "            y_pred = (y_pred > 0.5).cpu().int()\n",
    "            \n",
    "            # Add metrics record to lists\n",
    "            accuracy.append(accuracy_score(y, y_pred))\n",
    "            losses.append(loss.item())\n",
    "            \n",
    "            # Store average of metrics\n",
    "            history = {'training_loss': np.mean(losses), \n",
    "                       'training_accuracy': np.mean(accuracy)}\n",
    "            # Update progress bar\n",
    "            pbar.set_postfix(history)\n",
    "        return history\n",
    "    \n",
    "def evaluate(epoch, model, loss_fn, dataloader):\n",
    "    # Disable training\n",
    "    model.eval()\n",
    "    with torch.no_grad(), tqdm(dataloader, total=len(dataloader)) as pbar:\n",
    "        accuracy = []\n",
    "        losses = []\n",
    "        pbar.set_description('Epoch %d - Validation\\t' %(epoch + 1))\n",
    "        for x, y in pbar:\n",
    "            # Generate prediction\n",
    "            y_pred = model(**x)\n",
    "            \n",
    "            # Convert label for specified device and to float type\n",
    "            y = y.to(device).float()\n",
    "            \n",
    "            # Compute loss\n",
    "            loss = loss_fn(y_pred, y)\n",
    "            \n",
    "            # Convert tensors to CPU mode and integer type\n",
    "            y_pred = (y_pred > 0.5).cpu().int()\n",
    "            y = y.cpu().int()\n",
    "            \n",
    "            # Add metrics record to lists\n",
    "            accuracy.append(accuracy_score(y, y_pred))\n",
    "            losses.append(loss.item())\n",
    "            \n",
    "            # Store average of metrics\n",
    "            history = {'validation_loss': np.mean(losses), \n",
    "                       'validation_accuracy': np.mean(accuracy)}\n",
    "            \n",
    "            # Update progress bar\n",
    "            pbar.set_postfix(history)\n",
    "        return history"
   ]
  },
  {
   "cell_type": "code",
   "execution_count": 12,
   "id": "focused-drain",
   "metadata": {
    "execution": {
     "iopub.execute_input": "2021-05-30T17:12:47.125384Z",
     "iopub.status.busy": "2021-05-30T17:12:47.123650Z",
     "iopub.status.idle": "2021-05-30T18:44:32.786942Z",
     "shell.execute_reply": "2021-05-30T18:44:32.787345Z",
     "shell.execute_reply.started": "2021-05-30T15:28:57.023392Z"
    },
    "papermill": {
     "duration": 5505.68399,
     "end_time": "2021-05-30T18:44:32.787503",
     "exception": false,
     "start_time": "2021-05-30T17:12:47.103513",
     "status": "completed"
    },
    "tags": []
   },
   "outputs": [
    {
     "name": "stderr",
     "output_type": "stream",
     "text": [
      "Epoch 1 - Training\t: 100%|██████████| 1250/1250 [16:45<00:00,  1.24it/s, training_loss=0.257, training_accuracy=0.892]\n",
      "Epoch 1 - Validation\t: 100%|██████████| 313/313 [01:32<00:00,  3.40it/s, validation_loss=0.203, validation_accuracy=0.913]\n",
      "Epoch 2 - Training\t: 100%|██████████| 1250/1250 [16:47<00:00,  1.24it/s, training_loss=0.142, training_accuracy=0.95]\n",
      "Epoch 2 - Validation\t: 100%|██████████| 313/313 [01:32<00:00,  3.38it/s, validation_loss=0.246, validation_accuracy=0.911]\n",
      "Epoch 3 - Training\t: 100%|██████████| 1250/1250 [16:49<00:00,  1.24it/s, training_loss=0.0811, training_accuracy=0.973]\n",
      "Epoch 3 - Validation\t: 100%|██████████| 313/313 [01:32<00:00,  3.38it/s, validation_loss=0.281, validation_accuracy=0.908]\n",
      "Epoch 4 - Training\t: 100%|██████████| 1250/1250 [16:51<00:00,  1.24it/s, training_loss=0.0539, training_accuracy=0.982]\n",
      "Epoch 4 - Validation\t: 100%|██████████| 313/313 [01:32<00:00,  3.38it/s, validation_loss=0.28, validation_accuracy=0.917]\n",
      "Epoch 5 - Training\t: 100%|██████████| 1250/1250 [16:51<00:00,  1.24it/s, training_loss=0.0387, training_accuracy=0.987]\n",
      "Epoch 5 - Validation\t: 100%|██████████| 313/313 [01:32<00:00,  3.40it/s, validation_loss=0.277, validation_accuracy=0.923]\n"
     ]
    }
   ],
   "source": [
    "history = [{**train(epoch, model, optimizer, loss, trainloader),\n",
    "            **evaluate(epoch, model, loss, testloader)}\n",
    "           for epoch in range(5)]"
   ]
  },
  {
   "cell_type": "code",
   "execution_count": 13,
   "id": "boxed-summary",
   "metadata": {
    "execution": {
     "iopub.execute_input": "2021-05-30T18:44:40.603378Z",
     "iopub.status.busy": "2021-05-30T18:44:40.602763Z",
     "iopub.status.idle": "2021-05-30T18:44:40.606531Z",
     "shell.execute_reply": "2021-05-30T18:44:40.606117Z",
     "shell.execute_reply.started": "2021-05-30T17:05:25.924224Z"
    },
    "papermill": {
     "duration": 3.928604,
     "end_time": "2021-05-30T18:44:40.606654",
     "exception": false,
     "start_time": "2021-05-30T18:44:36.678050",
     "status": "completed"
    },
    "tags": []
   },
   "outputs": [],
   "source": [
    "training_loss = [h['training_loss'] for h in history]\n",
    "validation_loss = [h['validation_loss'] for h in history]\n",
    "training_accuracy = [h['training_accuracy'] for h in history]\n",
    "validation_accuracy = [h['validation_accuracy'] for h in history]"
   ]
  },
  {
   "cell_type": "code",
   "execution_count": 14,
   "id": "civil-italic",
   "metadata": {
    "execution": {
     "iopub.execute_input": "2021-05-30T18:44:48.695579Z",
     "iopub.status.busy": "2021-05-30T18:44:48.694744Z",
     "iopub.status.idle": "2021-05-30T18:44:48.962823Z",
     "shell.execute_reply": "2021-05-30T18:44:48.963286Z",
     "shell.execute_reply.started": "2021-05-30T17:10:46.065384Z"
    },
    "papermill": {
     "duration": 4.215003,
     "end_time": "2021-05-30T18:44:48.963444",
     "exception": false,
     "start_time": "2021-05-30T18:44:44.748441",
     "status": "completed"
    },
    "tags": []
   },
   "outputs": [
    {
     "data": {
      "image/png": "[encoded data removed]",
      "text/plain": [
       "<Figure size 720x360 with 2 Axes>"
      ]
     },
     "metadata": {},
     "output_type": "display_data"
    }
   ],
   "source": [
    "import matplotlib.pyplot as plt\n",
    "\n",
    "# Styling\n",
    "plt.style.use('seaborn-darkgrid')\n",
    "\n",
    "# Initialize plot\n",
    "fig, (ax1, ax2) = plt.subplots(ncols=2, figsize=(10, 5))\n",
    "# Left plot\n",
    "ax1.set_title('Loss')\n",
    "ax1.plot(training_loss, 'o-', label='Training Loss')\n",
    "ax1.plot(validation_loss, 'o-', label='Validation Loss')\n",
    "ax1.legend()\n",
    "# Right plot\n",
    "ax2.set_title('Accuracy')\n",
    "ax2.plot(training_accuracy, 'o-', label='Training Accuracy')\n",
    "ax2.plot(validation_accuracy, 'o-', label='Validation Accuracy')\n",
    "ax2.legend()\n",
    "fig.show()"
   ]
  }
 ],
 "metadata": {
  "kernelspec": {
   "display_name": "Python 3",
   "language": "python",
   "name": "python3"
  },
  "language_info": {
   "codemirror_mode": {
    "name": "ipython",
    "version": 3
   },
   "file_extension": ".py",
   "mimetype": "text/x-python",
   "name": "python",
   "nbconvert_exporter": "python",
   "pygments_lexer": "ipython3",
   "version": "3.7.10"
  },
  "papermill": {
   "default_parameters": {},
   "duration": 5566.446173,
   "end_time": "2021-05-30T18:44:54.931570",
   "environment_variables": {},
   "exception": null,
   "input_path": "__notebook__.ipynb",
   "output_path": "__notebook__.ipynb",
   "parameters": {},
   "start_time": "2021-05-30T17:12:08.485397",
   "version": "2.3.3"
  },
  "widgets": {
   "application/vnd.jupyter.widget-state+json": {
    "state": {
     "0345aa738e584d21b3bfa41931b8a46a": {
      "model_module": "@jupyter-widgets/base",
      "model_module_version": "1.2.0",
      "model_name": "LayoutModel",
      "state": {
       "_model_module": "@jupyter-widgets/base",
       "_model_module_version": "1.2.0",
       "_model_name": "LayoutModel",
       "_view_count": null,
       "_view_module": "@jupyter-widgets/base",
       "_view_module_version": "1.2.0",
       "_view_name": "LayoutView",
       "align_content": null,
       "align_items": null,
       "align_self": null,
       "border": null,
       "bottom": null,
       "display": null,
       "flex": null,
       "flex_flow": null,
       "grid_area": null,
       "grid_auto_columns": null,
       "grid_auto_flow": null,
       "grid_auto_rows": null,
       "grid_column": null,
       "grid_gap": null,
       "grid_row": null,
       "grid_template_areas": null,
       "grid_template_columns": null,
       "grid_template_rows": null,
       "height": null,
       "justify_content": null,
       "justify_items": null,
       "left": null,
       "margin": null,
       "max_height": null,
       "max_width": null,
       "min_height": null,
       "min_width": null,
       "object_fit": null,
       "object_position": null,
       "order": null,
       "overflow": null,
       "overflow_x": null,
       "overflow_y": null,
       "padding": null,
       "right": null,
       "top": null,
       "visibility": null,
       "width": null
      }
     },
     "0389683bddac4cf1b33cfc85847709a9": {
      "model_module": "@jupyter-widgets/controls",
      "model_module_version": "1.5.0",
      "model_name": "HBoxModel",
      "state": {
       "_dom_classes": [],
       "_model_module": "@jupyter-widgets/controls",
       "_model_module_version": "1.5.0",
       "_model_name": "HBoxModel",
       "_view_count": null,
       "_view_module": "@jupyter-widgets/controls",
       "_view_module_version": "1.5.0",
       "_view_name": "HBoxView",
       "box_style": "",
       "children": [
        "IPY_MODEL_611ef24d2f43476e954b6fc071b8fed4",
        "IPY_MODEL_75802abfbaa248bbbe483677785306c6",
        "IPY_MODEL_60873fba168a47c7b64bde43ab74ae5e"
       ],
       "layout": "IPY_MODEL_6f4335d325bd4ed09de96fc71e324868"
      }
     },
     "0951c7730ca24b798fb2761597e381f4": {
      "model_module": "@jupyter-widgets/controls",
      "model_module_version": "1.5.0",
      "model_name": "DescriptionStyleModel",
      "state": {
       "_model_module": "@jupyter-widgets/controls",
       "_model_module_version": "1.5.0",
       "_model_name": "DescriptionStyleModel",
       "_view_count": null,
       "_view_module": "@jupyter-widgets/base",
       "_view_module_version": "1.2.0",
       "_view_name": "StyleView",
       "description_width": ""
      }
     },
     "0d6e145168ec411cbfaae1b2b9add353": {
      "model_module": "@jupyter-widgets/controls",
      "model_module_version": "1.5.0",
      "model_name": "DescriptionStyleModel",
      "state": {
       "_model_module": "@jupyter-widgets/controls",
       "_model_module_version": "1.5.0",
       "_model_name": "DescriptionStyleModel",
       "_view_count": null,
       "_view_module": "@jupyter-widgets/base",
       "_view_module_version": "1.2.0",
       "_view_name": "StyleView",
       "description_width": ""
      }
     },
     "12b6ad67bd0a4af980c52d3333c63ac7": {
      "model_module": "@jupyter-widgets/base",
      "model_module_version": "1.2.0",
      "model_name": "LayoutModel",
      "state": {
       "_model_module": "@jupyter-widgets/base",
       "_model_module_version": "1.2.0",
       "_model_name": "LayoutModel",
       "_view_count": null,
       "_view_module": "@jupyter-widgets/base",
       "_view_module_version": "1.2.0",
       "_view_name": "LayoutView",
       "align_content": null,
       "align_items": null,
       "align_self": null,
       "border": null,
       "bottom": null,
       "display": null,
       "flex": null,
       "flex_flow": null,
       "grid_area": null,
       "grid_auto_columns": null,
       "grid_auto_flow": null,
       "grid_auto_rows": null,
       "grid_column": null,
       "grid_gap": null,
       "grid_row": null,
       "grid_template_areas": null,
       "grid_template_columns": null,
       "grid_template_rows": null,
       "height": null,
       "justify_content": null,
       "justify_items": null,
       "left": null,
       "margin": null,
       "max_height": null,
       "max_width": null,
       "min_height": null,
       "min_width": null,
       "object_fit": null,
       "object_position": null,
       "order": null,
       "overflow": null,
       "overflow_x": null,
       "overflow_y": null,
       "padding": null,
       "right": null,
       "top": null,
       "visibility": null,
       "width": null
      }
     },
     "14c7ea4fe87f4cc89c4eb215c912cc45": {
      "model_module": "@jupyter-widgets/controls",
      "model_module_version": "1.5.0",
      "model_name": "ProgressStyleModel",
      "state": {
       "_model_module": "@jupyter-widgets/controls",
       "_model_module_version": "1.5.0",
       "_model_name": "ProgressStyleModel",
       "_view_count": null,
       "_view_module": "@jupyter-widgets/base",
       "_view_module_version": "1.2.0",
       "_view_name": "StyleView",
       "bar_color": null,
       "description_width": ""
      }
     },
     "19b0108989154e4a9d2348f56b330c9e": {
      "model_module": "@jupyter-widgets/controls",
      "model_module_version": "1.5.0",
      "model_name": "HTMLModel",
      "state": {
       "_dom_classes": [],
       "_model_module": "@jupyter-widgets/controls",
       "_model_module_version": "1.5.0",
       "_model_name": "HTMLModel",
       "_view_count": null,
       "_view_module": "@jupyter-widgets/controls",
       "_view_module_version": "1.5.0",
       "_view_name": "HTMLView",
       "description": "",
       "description_tooltip": null,
       "layout": "IPY_MODEL_0345aa738e584d21b3bfa41931b8a46a",
       "placeholder": "​",
       "style": "IPY_MODEL_0d6e145168ec411cbfaae1b2b9add353",
       "value": " 570/570 [00:00&lt;00:00, 20.8kB/s]"
      }
     },
     "34eb16f0497b400fa1b77a345010aade": {
      "model_module": "@jupyter-widgets/base",
      "model_module_version": "1.2.0",
      "model_name": "LayoutModel",
      "state": {
       "_model_module": "@jupyter-widgets/base",
       "_model_module_version": "1.2.0",
       "_model_name": "LayoutModel",
       "_view_count": null,
       "_view_module": "@jupyter-widgets/base",
       "_view_module_version": "1.2.0",
       "_view_name": "LayoutView",
       "align_content": null,
       "align_items": null,
       "align_self": null,
       "border": null,
       "bottom": null,
       "display": null,
       "flex": null,
       "flex_flow": null,
       "grid_area": null,
       "grid_auto_columns": null,
       "grid_auto_flow": null,
       "grid_auto_rows": null,
       "grid_column": null,
       "grid_gap": null,
       "grid_row": null,
       "grid_template_areas": null,
       "grid_template_columns": null,
       "grid_template_rows": null,
       "height": null,
       "justify_content": null,
       "justify_items": null,
       "left": null,
       "margin": null,
       "max_height": null,
       "max_width": null,
       "min_height": null,
       "min_width": null,
       "object_fit": null,
       "object_position": null,
       "order": null,
       "overflow": null,
       "overflow_x": null,
       "overflow_y": null,
       "padding": null,
       "right": null,
       "top": null,
       "visibility": null,
       "width": null
      }
     },
     "35ff34aed3a547518cfe3640c995f6c4": {
      "model_module": "@jupyter-widgets/controls",
      "model_module_version": "1.5.0",
      "model_name": "HTMLModel",
      "state": {
       "_dom_classes": [],
       "_model_module": "@jupyter-widgets/controls",
       "_model_module_version": "1.5.0",
       "_model_name": "HTMLModel",
       "_view_count": null,
       "_view_module": "@jupyter-widgets/controls",
       "_view_module_version": "1.5.0",
       "_view_name": "HTMLView",
       "description": "",
       "description_tooltip": null,
       "layout": "IPY_MODEL_f172903bb66143c3908534d69830ecec",
       "placeholder": "​",
       "style": "IPY_MODEL_3af1dceba82943068ff2f662f1986035",
       "value": "Downloading: 100%"
      }
     },
     "3ae57fec9e024fd591854ae046adc489": {
      "model_module": "@jupyter-widgets/base",
      "model_module_version": "1.2.0",
      "model_name": "LayoutModel",
      "state": {
       "_model_module": "@jupyter-widgets/base",
       "_model_module_version": "1.2.0",
       "_model_name": "LayoutModel",
       "_view_count": null,
       "_view_module": "@jupyter-widgets/base",
       "_view_module_version": "1.2.0",
       "_view_name": "LayoutView",
       "align_content": null,
       "align_items": null,
       "align_self": null,
       "border": null,
       "bottom": null,
       "display": null,
       "flex": null,
       "flex_flow": null,
       "grid_area": null,
       "grid_auto_columns": null,
       "grid_auto_flow": null,
       "grid_auto_rows": null,
       "grid_column": null,
       "grid_gap": null,
       "grid_row": null,
       "grid_template_areas": null,
       "grid_template_columns": null,
       "grid_template_rows": null,
       "height": null,
       "justify_content": null,
       "justify_items": null,
       "left": null,
       "margin": null,
       "max_height": null,
       "max_width": null,
       "min_height": null,
       "min_width": null,
       "object_fit": null,
       "object_position": null,
       "order": null,
       "overflow": null,
       "overflow_x": null,
       "overflow_y": null,
       "padding": null,
       "right": null,
       "top": null,
       "visibility": null,
       "width": null
      }
     },
     "3af1dceba82943068ff2f662f1986035": {
      "model_module": "@jupyter-widgets/controls",
      "model_module_version": "1.5.0",
      "model_name": "DescriptionStyleModel",
      "state": {
       "_model_module": "@jupyter-widgets/controls",
       "_model_module_version": "1.5.0",
       "_model_name": "DescriptionStyleModel",
       "_view_count": null,
       "_view_module": "@jupyter-widgets/base",
       "_view_module_version": "1.2.0",
       "_view_name": "StyleView",
       "description_width": ""
      }
     },
     "3b7c72a53e754dcca790f91302dbd9e3": {
      "model_module": "@jupyter-widgets/controls",
      "model_module_version": "1.5.0",
      "model_name": "HBoxModel",
      "state": {
       "_dom_classes": [],
       "_model_module": "@jupyter-widgets/controls",
       "_model_module_version": "1.5.0",
       "_model_name": "HBoxModel",
       "_view_count": null,
       "_view_module": "@jupyter-widgets/controls",
       "_view_module_version": "1.5.0",
       "_view_name": "HBoxView",
       "box_style": "",
       "children": [
        "IPY_MODEL_35ff34aed3a547518cfe3640c995f6c4",
        "IPY_MODEL_f84e326308514c9293e413c2d1c796c5",
        "IPY_MODEL_19b0108989154e4a9d2348f56b330c9e"
       ],
       "layout": "IPY_MODEL_8de1cb7ac47b4002b46f533d4e2019bf"
      }
     },
     "3d7c63f04d7a41d98b0b7587161a82e4": {
      "model_module": "@jupyter-widgets/base",
      "model_module_version": "1.2.0",
      "model_name": "LayoutModel",
      "state": {
       "_model_module": "@jupyter-widgets/base",
       "_model_module_version": "1.2.0",
       "_model_name": "LayoutModel",
       "_view_count": null,
       "_view_module": "@jupyter-widgets/base",
       "_view_module_version": "1.2.0",
       "_view_name": "LayoutView",
       "align_content": null,
       "align_items": null,
       "align_self": null,
       "border": null,
       "bottom": null,
       "display": null,
       "flex": null,
       "flex_flow": null,
       "grid_area": null,
       "grid_auto_columns": null,
       "grid_auto_flow": null,
       "grid_auto_rows": null,
       "grid_column": null,
       "grid_gap": null,
       "grid_row": null,
       "grid_template_areas": null,
       "grid_template_columns": null,
       "grid_template_rows": null,
       "height": null,
       "justify_content": null,
       "justify_items": null,
       "left": null,
       "margin": null,
       "max_height": null,
       "max_width": null,
       "min_height": null,
       "min_width": null,
       "object_fit": null,
       "object_position": null,
       "order": null,
       "overflow": null,
       "overflow_x": null,
       "overflow_y": null,
       "padding": null,
       "right": null,
       "top": null,
       "visibility": null,
       "width": null
      }
     },
     "3d83aaa6f5024989a43e825ce11cd5c7": {
      "model_module": "@jupyter-widgets/base",
      "model_module_version": "1.2.0",
      "model_name": "LayoutModel",
      "state": {
       "_model_module": "@jupyter-widgets/base",
       "_model_module_version": "1.2.0",
       "_model_name": "LayoutModel",
       "_view_count": null,
       "_view_module": "@jupyter-widgets/base",
       "_view_module_version": "1.2.0",
       "_view_name": "LayoutView",
       "align_content": null,
       "align_items": null,
       "align_self": null,
       "border": null,
       "bottom": null,
       "display": null,
       "flex": null,
       "flex_flow": null,
       "grid_area": null,
       "grid_auto_columns": null,
       "grid_auto_flow": null,
       "grid_auto_rows": null,
       "grid_column": null,
       "grid_gap": null,
       "grid_row": null,
       "grid_template_areas": null,
       "grid_template_columns": null,
       "grid_template_rows": null,
       "height": null,
       "justify_content": null,
       "justify_items": null,
       "left": null,
       "margin": null,
       "max_height": null,
       "max_width": null,
       "min_height": null,
       "min_width": null,
       "object_fit": null,
       "object_position": null,
       "order": null,
       "overflow": null,
       "overflow_x": null,
       "overflow_y": null,
       "padding": null,
       "right": null,
       "top": null,
       "visibility": null,
       "width": null
      }
     },
     "3e9443a086df45298e5933ee32065747": {
      "model_module": "@jupyter-widgets/controls",
      "model_module_version": "1.5.0",
      "model_name": "DescriptionStyleModel",
      "state": {
       "_model_module": "@jupyter-widgets/controls",
       "_model_module_version": "1.5.0",
       "_model_name": "DescriptionStyleModel",
       "_view_count": null,
       "_view_module": "@jupyter-widgets/base",
       "_view_module_version": "1.2.0",
       "_view_name": "StyleView",
       "description_width": ""
      }
     },
     "434bb89358844fcab5e6c3436b3961af": {
      "model_module": "@jupyter-widgets/base",
      "model_module_version": "1.2.0",
      "model_name": "LayoutModel",
      "state": {
       "_model_module": "@jupyter-widgets/base",
       "_model_module_version": "1.2.0",
       "_model_name": "LayoutModel",
       "_view_count": null,
       "_view_module": "@jupyter-widgets/base",
       "_view_module_version": "1.2.0",
       "_view_name": "LayoutView",
       "align_content": null,
       "align_items": null,
       "align_self": null,
       "border": null,
       "bottom": null,
       "display": null,
       "flex": null,
       "flex_flow": null,
       "grid_area": null,
       "grid_auto_columns": null,
       "grid_auto_flow": null,
       "grid_auto_rows": null,
       "grid_column": null,
       "grid_gap": null,
       "grid_row": null,
       "grid_template_areas": null,
       "grid_template_columns": null,
       "grid_template_rows": null,
       "height": null,
       "justify_content": null,
       "justify_items": null,
       "left": null,
       "margin": null,
       "max_height": null,
       "max_width": null,
       "min_height": null,
       "min_width": null,
       "object_fit": null,
       "object_position": null,
       "order": null,
       "overflow": null,
       "overflow_x": null,
       "overflow_y": null,
       "padding": null,
       "right": null,
       "top": null,
       "visibility": null,
       "width": null
      }
     },
     "43a857a746b1442da451920aacfa64d6": {
      "model_module": "@jupyter-widgets/base",
      "model_module_version": "1.2.0",
      "model_name": "LayoutModel",
      "state": {
       "_model_module": "@jupyter-widgets/base",
       "_model_module_version": "1.2.0",
       "_model_name": "LayoutModel",
       "_view_count": null,
       "_view_module": "@jupyter-widgets/base",
       "_view_module_version": "1.2.0",
       "_view_name": "LayoutView",
       "align_content": null,
       "align_items": null,
       "align_self": null,
       "border": null,
       "bottom": null,
       "display": null,
       "flex": null,
       "flex_flow": null,
       "grid_area": null,
       "grid_auto_columns": null,
       "grid_auto_flow": null,
       "grid_auto_rows": null,
       "grid_column": null,
       "grid_gap": null,
       "grid_row": null,
       "grid_template_areas": null,
       "grid_template_columns": null,
       "grid_template_rows": null,
       "height": null,
       "justify_content": null,
       "justify_items": null,
       "left": null,
       "margin": null,
       "max_height": null,
       "max_width": null,
       "min_height": null,
       "min_width": null,
       "object_fit": null,
       "object_position": null,
       "order": null,
       "overflow": null,
       "overflow_x": null,
       "overflow_y": null,
       "padding": null,
       "right": null,
       "top": null,
       "visibility": null,
       "width": null
      }
     },
     "4b8543ee47204b19bbb7051fff234be3": {
      "model_module": "@jupyter-widgets/controls",
      "model_module_version": "1.5.0",
      "model_name": "HBoxModel",
      "state": {
       "_dom_classes": [],
       "_model_module": "@jupyter-widgets/controls",
       "_model_module_version": "1.5.0",
       "_model_name": "HBoxModel",
       "_view_count": null,
       "_view_module": "@jupyter-widgets/controls",
       "_view_module_version": "1.5.0",
       "_view_name": "HBoxView",
       "box_style": "",
       "children": [
        "IPY_MODEL_7186bbe03ef541a79f4f004ec193b714",
        "IPY_MODEL_814d3717871041dabcd137751e743912",
        "IPY_MODEL_4e3f79d55fd1429cad9f226210aa0d75"
       ],
       "layout": "IPY_MODEL_12b6ad67bd0a4af980c52d3333c63ac7"
      }
     },
     "4e3f79d55fd1429cad9f226210aa0d75": {
      "model_module": "@jupyter-widgets/controls",
      "model_module_version": "1.5.0",
      "model_name": "HTMLModel",
      "state": {
       "_dom_classes": [],
       "_model_module": "@jupyter-widgets/controls",
       "_model_module_version": "1.5.0",
       "_model_name": "HTMLModel",
       "_view_count": null,
       "_view_module": "@jupyter-widgets/controls",
       "_view_module_version": "1.5.0",
       "_view_name": "HTMLView",
       "description": "",
       "description_tooltip": null,
       "layout": "IPY_MODEL_3d7c63f04d7a41d98b0b7587161a82e4",
       "placeholder": "​",
       "style": "IPY_MODEL_d5612095b8844ca49d71a9f461367323",
       "value": " 436M/436M [00:10&lt;00:00, 46.2MB/s]"
      }
     },
     "53ed384575694fe781d8757fefaab8c4": {
      "model_module": "@jupyter-widgets/controls",
      "model_module_version": "1.5.0",
      "model_name": "HTMLModel",
      "state": {
       "_dom_classes": [],
       "_model_module": "@jupyter-widgets/controls",
       "_model_module_version": "1.5.0",
       "_model_name": "HTMLModel",
       "_view_count": null,
       "_view_module": "@jupyter-widgets/controls",
       "_view_module_version": "1.5.0",
       "_view_name": "HTMLView",
       "description": "",
       "description_tooltip": null,
       "layout": "IPY_MODEL_8c242c6b80324be88626cc80b61158f4",
       "placeholder": "​",
       "style": "IPY_MODEL_7ac98d438be840828e85f7c6680e932d",
       "value": "Downloading: 100%"
      }
     },
     "57573c987b3441fb9549b8bc40e4633d": {
      "model_module": "@jupyter-widgets/controls",
      "model_module_version": "1.5.0",
      "model_name": "FloatProgressModel",
      "state": {
       "_dom_classes": [],
       "_model_module": "@jupyter-widgets/controls",
       "_model_module_version": "1.5.0",
       "_model_name": "FloatProgressModel",
       "_view_count": null,
       "_view_module": "@jupyter-widgets/controls",
       "_view_module_version": "1.5.0",
       "_view_name": "ProgressView",
       "bar_style": "success",
       "description": "",
       "description_tooltip": null,
       "layout": "IPY_MODEL_e2ccd43e95fd40a9acf40e501bf9d1a7",
       "max": 435797.0,
       "min": 0.0,
       "orientation": "horizontal",
       "style": "IPY_MODEL_fc113be980ea4005b3869c63fffc1913",
       "value": 435797.0
      }
     },
     "5d8cb595523e43dab525f601fb3154dd": {
      "model_module": "@jupyter-widgets/base",
      "model_module_version": "1.2.0",
      "model_name": "LayoutModel",
      "state": {
       "_model_module": "@jupyter-widgets/base",
       "_model_module_version": "1.2.0",
       "_model_name": "LayoutModel",
       "_view_count": null,
       "_view_module": "@jupyter-widgets/base",
       "_view_module_version": "1.2.0",
       "_view_name": "LayoutView",
       "align_content": null,
       "align_items": null,
       "align_self": null,
       "border": null,
       "bottom": null,
       "display": null,
       "flex": null,
       "flex_flow": null,
       "grid_area": null,
       "grid_auto_columns": null,
       "grid_auto_flow": null,
       "grid_auto_rows": null,
       "grid_column": null,
       "grid_gap": null,
       "grid_row": null,
       "grid_template_areas": null,
       "grid_template_columns": null,
       "grid_template_rows": null,
       "height": null,
       "justify_content": null,
       "justify_items": null,
       "left": null,
       "margin": null,
       "max_height": null,
       "max_width": null,
       "min_height": null,
       "min_width": null,
       "object_fit": null,
       "object_position": null,
       "order": null,
       "overflow": null,
       "overflow_x": null,
       "overflow_y": null,
       "padding": null,
       "right": null,
       "top": null,
       "visibility": null,
       "width": null
      }
     },
     "5ef9d3926dfb47b4b61523c41450a996": {
      "model_module": "@jupyter-widgets/controls",
      "model_module_version": "1.5.0",
      "model_name": "ProgressStyleModel",
      "state": {
       "_model_module": "@jupyter-widgets/controls",
       "_model_module_version": "1.5.0",
       "_model_name": "ProgressStyleModel",
       "_view_count": null,
       "_view_module": "@jupyter-widgets/base",
       "_view_module_version": "1.2.0",
       "_view_name": "StyleView",
       "bar_color": null,
       "description_width": ""
      }
     },
     "60873fba168a47c7b64bde43ab74ae5e": {
      "model_module": "@jupyter-widgets/controls",
      "model_module_version": "1.5.0",
      "model_name": "HTMLModel",
      "state": {
       "_dom_classes": [],
       "_model_module": "@jupyter-widgets/controls",
       "_model_module_version": "1.5.0",
       "_model_name": "HTMLModel",
       "_view_count": null,
       "_view_module": "@jupyter-widgets/controls",
       "_view_module_version": "1.5.0",
       "_view_name": "HTMLView",
       "description": "",
       "description_tooltip": null,
       "layout": "IPY_MODEL_3ae57fec9e024fd591854ae046adc489",
       "placeholder": "​",
       "style": "IPY_MODEL_e69a7fb5aa894e0e95a4311ee9c05e17",
       "value": " 213k/213k [00:00&lt;00:00, 1.20MB/s]"
      }
     },
     "611ef24d2f43476e954b6fc071b8fed4": {
      "model_module": "@jupyter-widgets/controls",
      "model_module_version": "1.5.0",
      "model_name": "HTMLModel",
      "state": {
       "_dom_classes": [],
       "_model_module": "@jupyter-widgets/controls",
       "_model_module_version": "1.5.0",
       "_model_name": "HTMLModel",
       "_view_count": null,
       "_view_module": "@jupyter-widgets/controls",
       "_view_module_version": "1.5.0",
       "_view_name": "HTMLView",
       "description": "",
       "description_tooltip": null,
       "layout": "IPY_MODEL_f435f919b2fb4fca95585413c3f4fe9e",
       "placeholder": "​",
       "style": "IPY_MODEL_72176d602f674e129fa005e1bc00f1d2",
       "value": "Downloading: 100%"
      }
     },
     "6d2afd452ab348fa993f82950e67a613": {
      "model_module": "@jupyter-widgets/controls",
      "model_module_version": "1.5.0",
      "model_name": "DescriptionStyleModel",
      "state": {
       "_model_module": "@jupyter-widgets/controls",
       "_model_module_version": "1.5.0",
       "_model_name": "DescriptionStyleModel",
       "_view_count": null,
       "_view_module": "@jupyter-widgets/base",
       "_view_module_version": "1.2.0",
       "_view_name": "StyleView",
       "description_width": ""
      }
     },
     "6d7c5383317a4a3f9172c4de80807b55": {
      "model_module": "@jupyter-widgets/base",
      "model_module_version": "1.2.0",
      "model_name": "LayoutModel",
      "state": {
       "_model_module": "@jupyter-widgets/base",
       "_model_module_version": "1.2.0",
       "_model_name": "LayoutModel",
       "_view_count": null,
       "_view_module": "@jupyter-widgets/base",
       "_view_module_version": "1.2.0",
       "_view_name": "LayoutView",
       "align_content": null,
       "align_items": null,
       "align_self": null,
       "border": null,
       "bottom": null,
       "display": null,
       "flex": null,
       "flex_flow": null,
       "grid_area": null,
       "grid_auto_columns": null,
       "grid_auto_flow": null,
       "grid_auto_rows": null,
       "grid_column": null,
       "grid_gap": null,
       "grid_row": null,
       "grid_template_areas": null,
       "grid_template_columns": null,
       "grid_template_rows": null,
       "height": null,
       "justify_content": null,
       "justify_items": null,
       "left": null,
       "margin": null,
       "max_height": null,
       "max_width": null,
       "min_height": null,
       "min_width": null,
       "object_fit": null,
       "object_position": null,
       "order": null,
       "overflow": null,
       "overflow_x": null,
       "overflow_y": null,
       "padding": null,
       "right": null,
       "top": null,
       "visibility": null,
       "width": null
      }
     },
     "6f4335d325bd4ed09de96fc71e324868": {
      "model_module": "@jupyter-widgets/base",
      "model_module_version": "1.2.0",
      "model_name": "LayoutModel",
      "state": {
       "_model_module": "@jupyter-widgets/base",
       "_model_module_version": "1.2.0",
       "_model_name": "LayoutModel",
       "_view_count": null,
       "_view_module": "@jupyter-widgets/base",
       "_view_module_version": "1.2.0",
       "_view_name": "LayoutView",
       "align_content": null,
       "align_items": null,
       "align_self": null,
       "border": null,
       "bottom": null,
       "display": null,
       "flex": null,
       "flex_flow": null,
       "grid_area": null,
       "grid_auto_columns": null,
       "grid_auto_flow": null,
       "grid_auto_rows": null,
       "grid_column": null,
       "grid_gap": null,
       "grid_row": null,
       "grid_template_areas": null,
       "grid_template_columns": null,
       "grid_template_rows": null,
       "height": null,
       "justify_content": null,
       "justify_items": null,
       "left": null,
       "margin": null,
       "max_height": null,
       "max_width": null,
       "min_height": null,
       "min_width": null,
       "object_fit": null,
       "object_position": null,
       "order": null,
       "overflow": null,
       "overflow_x": null,
       "overflow_y": null,
       "padding": null,
       "right": null,
       "top": null,
       "visibility": null,
       "width": null
      }
     },
     "7186bbe03ef541a79f4f004ec193b714": {
      "model_module": "@jupyter-widgets/controls",
      "model_module_version": "1.5.0",
      "model_name": "HTMLModel",
      "state": {
       "_dom_classes": [],
       "_model_module": "@jupyter-widgets/controls",
       "_model_module_version": "1.5.0",
       "_model_name": "HTMLModel",
       "_view_count": null,
       "_view_module": "@jupyter-widgets/controls",
       "_view_module_version": "1.5.0",
       "_view_name": "HTMLView",
       "description": "",
       "description_tooltip": null,
       "layout": "IPY_MODEL_a9994109c57945eeb85d27f50de69a52",
       "placeholder": "​",
       "style": "IPY_MODEL_6d2afd452ab348fa993f82950e67a613",
       "value": "Downloading: 100%"
      }
     },
     "72176d602f674e129fa005e1bc00f1d2": {
      "model_module": "@jupyter-widgets/controls",
      "model_module_version": "1.5.0",
      "model_name": "DescriptionStyleModel",
      "state": {
       "_model_module": "@jupyter-widgets/controls",
       "_model_module_version": "1.5.0",
       "_model_name": "DescriptionStyleModel",
       "_view_count": null,
       "_view_module": "@jupyter-widgets/base",
       "_view_module_version": "1.2.0",
       "_view_name": "StyleView",
       "description_width": ""
      }
     },
     "75802abfbaa248bbbe483677785306c6": {
      "model_module": "@jupyter-widgets/controls",
      "model_module_version": "1.5.0",
      "model_name": "FloatProgressModel",
      "state": {
       "_dom_classes": [],
       "_model_module": "@jupyter-widgets/controls",
       "_model_module_version": "1.5.0",
       "_model_name": "FloatProgressModel",
       "_view_count": null,
       "_view_module": "@jupyter-widgets/controls",
       "_view_module_version": "1.5.0",
       "_view_name": "ProgressView",
       "bar_style": "success",
       "description": "",
       "description_tooltip": null,
       "layout": "IPY_MODEL_434bb89358844fcab5e6c3436b3961af",
       "max": 213450.0,
       "min": 0.0,
       "orientation": "horizontal",
       "style": "IPY_MODEL_c8e0e051c1b2400bb5675ab425cdcd33",
       "value": 213450.0
      }
     },
     "76ca1eb40592473a8967f7af97b969f1": {
      "model_module": "@jupyter-widgets/controls",
      "model_module_version": "1.5.0",
      "model_name": "HTMLModel",
      "state": {
       "_dom_classes": [],
       "_model_module": "@jupyter-widgets/controls",
       "_model_module_version": "1.5.0",
       "_model_name": "HTMLModel",
       "_view_count": null,
       "_view_module": "@jupyter-widgets/controls",
       "_view_module_version": "1.5.0",
       "_view_name": "HTMLView",
       "description": "",
       "description_tooltip": null,
       "layout": "IPY_MODEL_8ba4477bcf274532a8a63133ed604f16",
       "placeholder": "​",
       "style": "IPY_MODEL_0951c7730ca24b798fb2761597e381f4",
       "value": " 29.0/29.0 [00:00&lt;00:00, 1.02kB/s]"
      }
     },
     "77b312af4b294637aebd100e77964b26": {
      "model_module": "@jupyter-widgets/base",
      "model_module_version": "1.2.0",
      "model_name": "LayoutModel",
      "state": {
       "_model_module": "@jupyter-widgets/base",
       "_model_module_version": "1.2.0",
       "_model_name": "LayoutModel",
       "_view_count": null,
       "_view_module": "@jupyter-widgets/base",
       "_view_module_version": "1.2.0",
       "_view_name": "LayoutView",
       "align_content": null,
       "align_items": null,
       "align_self": null,
       "border": null,
       "bottom": null,
       "display": null,
       "flex": null,
       "flex_flow": null,
       "grid_area": null,
       "grid_auto_columns": null,
       "grid_auto_flow": null,
       "grid_auto_rows": null,
       "grid_column": null,
       "grid_gap": null,
       "grid_row": null,
       "grid_template_areas": null,
       "grid_template_columns": null,
       "grid_template_rows": null,
       "height": null,
       "justify_content": null,
       "justify_items": null,
       "left": null,
       "margin": null,
       "max_height": null,
       "max_width": null,
       "min_height": null,
       "min_width": null,
       "object_fit": null,
       "object_position": null,
       "order": null,
       "overflow": null,
       "overflow_x": null,
       "overflow_y": null,
       "padding": null,
       "right": null,
       "top": null,
       "visibility": null,
       "width": null
      }
     },
     "7ac98d438be840828e85f7c6680e932d": {
      "model_module": "@jupyter-widgets/controls",
      "model_module_version": "1.5.0",
      "model_name": "DescriptionStyleModel",
      "state": {
       "_model_module": "@jupyter-widgets/controls",
       "_model_module_version": "1.5.0",
       "_model_name": "DescriptionStyleModel",
       "_view_count": null,
       "_view_module": "@jupyter-widgets/base",
       "_view_module_version": "1.2.0",
       "_view_name": "StyleView",
       "description_width": ""
      }
     },
     "814d3717871041dabcd137751e743912": {
      "model_module": "@jupyter-widgets/controls",
      "model_module_version": "1.5.0",
      "model_name": "FloatProgressModel",
      "state": {
       "_dom_classes": [],
       "_model_module": "@jupyter-widgets/controls",
       "_model_module_version": "1.5.0",
       "_model_name": "FloatProgressModel",
       "_view_count": null,
       "_view_module": "@jupyter-widgets/controls",
       "_view_module_version": "1.5.0",
       "_view_name": "ProgressView",
       "bar_style": "success",
       "description": "",
       "description_tooltip": null,
       "layout": "IPY_MODEL_5d8cb595523e43dab525f601fb3154dd",
       "max": 435779157.0,
       "min": 0.0,
       "orientation": "horizontal",
       "style": "IPY_MODEL_5ef9d3926dfb47b4b61523c41450a996",
       "value": 435779157.0
      }
     },
     "82cdf047667f4eec8dcf8634a2ce5a4f": {
      "model_module": "@jupyter-widgets/controls",
      "model_module_version": "1.5.0",
      "model_name": "HTMLModel",
      "state": {
       "_dom_classes": [],
       "_model_module": "@jupyter-widgets/controls",
       "_model_module_version": "1.5.0",
       "_model_name": "HTMLModel",
       "_view_count": null,
       "_view_module": "@jupyter-widgets/controls",
       "_view_module_version": "1.5.0",
       "_view_name": "HTMLView",
       "description": "",
       "description_tooltip": null,
       "layout": "IPY_MODEL_77b312af4b294637aebd100e77964b26",
       "placeholder": "​",
       "style": "IPY_MODEL_8b2ab8beea6f4695a1041c4e780c324e",
       "value": " 436k/436k [00:00&lt;00:00, 1.13MB/s]"
      }
     },
     "8b2ab8beea6f4695a1041c4e780c324e": {
      "model_module": "@jupyter-widgets/controls",
      "model_module_version": "1.5.0",
      "model_name": "DescriptionStyleModel",
      "state": {
       "_model_module": "@jupyter-widgets/controls",
       "_model_module_version": "1.5.0",
       "_model_name": "DescriptionStyleModel",
       "_view_count": null,
       "_view_module": "@jupyter-widgets/base",
       "_view_module_version": "1.2.0",
       "_view_name": "StyleView",
       "description_width": ""
      }
     },
     "8ba4477bcf274532a8a63133ed604f16": {
      "model_module": "@jupyter-widgets/base",
      "model_module_version": "1.2.0",
      "model_name": "LayoutModel",
      "state": {
       "_model_module": "@jupyter-widgets/base",
       "_model_module_version": "1.2.0",
       "_model_name": "LayoutModel",
       "_view_count": null,
       "_view_module": "@jupyter-widgets/base",
       "_view_module_version": "1.2.0",
       "_view_name": "LayoutView",
       "align_content": null,
       "align_items": null,
       "align_self": null,
       "border": null,
       "bottom": null,
       "display": null,
       "flex": null,
       "flex_flow": null,
       "grid_area": null,
       "grid_auto_columns": null,
       "grid_auto_flow": null,
       "grid_auto_rows": null,
       "grid_column": null,
       "grid_gap": null,
       "grid_row": null,
       "grid_template_areas": null,
       "grid_template_columns": null,
       "grid_template_rows": null,
       "height": null,
       "justify_content": null,
       "justify_items": null,
       "left": null,
       "margin": null,
       "max_height": null,
       "max_width": null,
       "min_height": null,
       "min_width": null,
       "object_fit": null,
       "object_position": null,
       "order": null,
       "overflow": null,
       "overflow_x": null,
       "overflow_y": null,
       "padding": null,
       "right": null,
       "top": null,
       "visibility": null,
       "width": null
      }
     },
     "8c242c6b80324be88626cc80b61158f4": {
      "model_module": "@jupyter-widgets/base",
      "model_module_version": "1.2.0",
      "model_name": "LayoutModel",
      "state": {
       "_model_module": "@jupyter-widgets/base",
       "_model_module_version": "1.2.0",
       "_model_name": "LayoutModel",
       "_view_count": null,
       "_view_module": "@jupyter-widgets/base",
       "_view_module_version": "1.2.0",
       "_view_name": "LayoutView",
       "align_content": null,
       "align_items": null,
       "align_self": null,
       "border": null,
       "bottom": null,
       "display": null,
       "flex": null,
       "flex_flow": null,
       "grid_area": null,
       "grid_auto_columns": null,
       "grid_auto_flow": null,
       "grid_auto_rows": null,
       "grid_column": null,
       "grid_gap": null,
       "grid_row": null,
       "grid_template_areas": null,
       "grid_template_columns": null,
       "grid_template_rows": null,
       "height": null,
       "justify_content": null,
       "justify_items": null,
       "left": null,
       "margin": null,
       "max_height": null,
       "max_width": null,
       "min_height": null,
       "min_width": null,
       "object_fit": null,
       "object_position": null,
       "order": null,
       "overflow": null,
       "overflow_x": null,
       "overflow_y": null,
       "padding": null,
       "right": null,
       "top": null,
       "visibility": null,
       "width": null
      }
     },
     "8de1cb7ac47b4002b46f533d4e2019bf": {
      "model_module": "@jupyter-widgets/base",
      "model_module_version": "1.2.0",
      "model_name": "LayoutModel",
      "state": {
       "_model_module": "@jupyter-widgets/base",
       "_model_module_version": "1.2.0",
       "_model_name": "LayoutModel",
       "_view_count": null,
       "_view_module": "@jupyter-widgets/base",
       "_view_module_version": "1.2.0",
       "_view_name": "LayoutView",
       "align_content": null,
       "align_items": null,
       "align_self": null,
       "border": null,
       "bottom": null,
       "display": null,
       "flex": null,
       "flex_flow": null,
       "grid_area": null,
       "grid_auto_columns": null,
       "grid_auto_flow": null,
       "grid_auto_rows": null,
       "grid_column": null,
       "grid_gap": null,
       "grid_row": null,
       "grid_template_areas": null,
       "grid_template_columns": null,
       "grid_template_rows": null,
       "height": null,
       "justify_content": null,
       "justify_items": null,
       "left": null,
       "margin": null,
       "max_height": null,
       "max_width": null,
       "min_height": null,
       "min_width": null,
       "object_fit": null,
       "object_position": null,
       "order": null,
       "overflow": null,
       "overflow_x": null,
       "overflow_y": null,
       "padding": null,
       "right": null,
       "top": null,
       "visibility": null,
       "width": null
      }
     },
     "90fab02c200a4f8db32a74a3167f8c8c": {
      "model_module": "@jupyter-widgets/controls",
      "model_module_version": "1.5.0",
      "model_name": "HBoxModel",
      "state": {
       "_dom_classes": [],
       "_model_module": "@jupyter-widgets/controls",
       "_model_module_version": "1.5.0",
       "_model_name": "HBoxModel",
       "_view_count": null,
       "_view_module": "@jupyter-widgets/controls",
       "_view_module_version": "1.5.0",
       "_view_name": "HBoxView",
       "box_style": "",
       "children": [
        "IPY_MODEL_c7c29eff35e345baa98bd18ad238b45d",
        "IPY_MODEL_b44cc9856b244955adf938a8a62ea2b2",
        "IPY_MODEL_76ca1eb40592473a8967f7af97b969f1"
       ],
       "layout": "IPY_MODEL_c4903d5bb8414a2db5d716b539017c2f"
      }
     },
     "a9994109c57945eeb85d27f50de69a52": {
      "model_module": "@jupyter-widgets/base",
      "model_module_version": "1.2.0",
      "model_name": "LayoutModel",
      "state": {
       "_model_module": "@jupyter-widgets/base",
       "_model_module_version": "1.2.0",
       "_model_name": "LayoutModel",
       "_view_count": null,
       "_view_module": "@jupyter-widgets/base",
       "_view_module_version": "1.2.0",
       "_view_name": "LayoutView",
       "align_content": null,
       "align_items": null,
       "align_self": null,
       "border": null,
       "bottom": null,
       "display": null,
       "flex": null,
       "flex_flow": null,
       "grid_area": null,
       "grid_auto_columns": null,
       "grid_auto_flow": null,
       "grid_auto_rows": null,
       "grid_column": null,
       "grid_gap": null,
       "grid_row": null,
       "grid_template_areas": null,
       "grid_template_columns": null,
       "grid_template_rows": null,
       "height": null,
       "justify_content": null,
       "justify_items": null,
       "left": null,
       "margin": null,
       "max_height": null,
       "max_width": null,
       "min_height": null,
       "min_width": null,
       "object_fit": null,
       "object_position": null,
       "order": null,
       "overflow": null,
       "overflow_x": null,
       "overflow_y": null,
       "padding": null,
       "right": null,
       "top": null,
       "visibility": null,
       "width": null
      }
     },
     "b44cc9856b244955adf938a8a62ea2b2": {
      "model_module": "@jupyter-widgets/controls",
      "model_module_version": "1.5.0",
      "model_name": "FloatProgressModel",
      "state": {
       "_dom_classes": [],
       "_model_module": "@jupyter-widgets/controls",
       "_model_module_version": "1.5.0",
       "_model_name": "FloatProgressModel",
       "_view_count": null,
       "_view_module": "@jupyter-widgets/controls",
       "_view_module_version": "1.5.0",
       "_view_name": "ProgressView",
       "bar_style": "success",
       "description": "",
       "description_tooltip": null,
       "layout": "IPY_MODEL_43a857a746b1442da451920aacfa64d6",
       "max": 29.0,
       "min": 0.0,
       "orientation": "horizontal",
       "style": "IPY_MODEL_dfa0b9a823dc4ec18d9f5ac4e2491bb7",
       "value": 29.0
      }
     },
     "c4903d5bb8414a2db5d716b539017c2f": {
      "model_module": "@jupyter-widgets/base",
      "model_module_version": "1.2.0",
      "model_name": "LayoutModel",
      "state": {
       "_model_module": "@jupyter-widgets/base",
       "_model_module_version": "1.2.0",
       "_model_name": "LayoutModel",
       "_view_count": null,
       "_view_module": "@jupyter-widgets/base",
       "_view_module_version": "1.2.0",
       "_view_name": "LayoutView",
       "align_content": null,
       "align_items": null,
       "align_self": null,
       "border": null,
       "bottom": null,
       "display": null,
       "flex": null,
       "flex_flow": null,
       "grid_area": null,
       "grid_auto_columns": null,
       "grid_auto_flow": null,
       "grid_auto_rows": null,
       "grid_column": null,
       "grid_gap": null,
       "grid_row": null,
       "grid_template_areas": null,
       "grid_template_columns": null,
       "grid_template_rows": null,
       "height": null,
       "justify_content": null,
       "justify_items": null,
       "left": null,
       "margin": null,
       "max_height": null,
       "max_width": null,
       "min_height": null,
       "min_width": null,
       "object_fit": null,
       "object_position": null,
       "order": null,
       "overflow": null,
       "overflow_x": null,
       "overflow_y": null,
       "padding": null,
       "right": null,
       "top": null,
       "visibility": null,
       "width": null
      }
     },
     "c7c29eff35e345baa98bd18ad238b45d": {
      "model_module": "@jupyter-widgets/controls",
      "model_module_version": "1.5.0",
      "model_name": "HTMLModel",
      "state": {
       "_dom_classes": [],
       "_model_module": "@jupyter-widgets/controls",
       "_model_module_version": "1.5.0",
       "_model_name": "HTMLModel",
       "_view_count": null,
       "_view_module": "@jupyter-widgets/controls",
       "_view_module_version": "1.5.0",
       "_view_name": "HTMLView",
       "description": "",
       "description_tooltip": null,
       "layout": "IPY_MODEL_34eb16f0497b400fa1b77a345010aade",
       "placeholder": "​",
       "style": "IPY_MODEL_3e9443a086df45298e5933ee32065747",
       "value": "Downloading: 100%"
      }
     },
     "c8e0e051c1b2400bb5675ab425cdcd33": {
      "model_module": "@jupyter-widgets/controls",
      "model_module_version": "1.5.0",
      "model_name": "ProgressStyleModel",
      "state": {
       "_model_module": "@jupyter-widgets/controls",
       "_model_module_version": "1.5.0",
       "_model_name": "ProgressStyleModel",
       "_view_count": null,
       "_view_module": "@jupyter-widgets/base",
       "_view_module_version": "1.2.0",
       "_view_name": "StyleView",
       "bar_color": null,
       "description_width": ""
      }
     },
     "d5612095b8844ca49d71a9f461367323": {
      "model_module": "@jupyter-widgets/controls",
      "model_module_version": "1.5.0",
      "model_name": "DescriptionStyleModel",
      "state": {
       "_model_module": "@jupyter-widgets/controls",
       "_model_module_version": "1.5.0",
       "_model_name": "DescriptionStyleModel",
       "_view_count": null,
       "_view_module": "@jupyter-widgets/base",
       "_view_module_version": "1.2.0",
       "_view_name": "StyleView",
       "description_width": ""
      }
     },
     "dfa0b9a823dc4ec18d9f5ac4e2491bb7": {
      "model_module": "@jupyter-widgets/controls",
      "model_module_version": "1.5.0",
      "model_name": "ProgressStyleModel",
      "state": {
       "_model_module": "@jupyter-widgets/controls",
       "_model_module_version": "1.5.0",
       "_model_name": "ProgressStyleModel",
       "_view_count": null,
       "_view_module": "@jupyter-widgets/base",
       "_view_module_version": "1.2.0",
       "_view_name": "StyleView",
       "bar_color": null,
       "description_width": ""
      }
     },
     "e2ccd43e95fd40a9acf40e501bf9d1a7": {
      "model_module": "@jupyter-widgets/base",
      "model_module_version": "1.2.0",
      "model_name": "LayoutModel",
      "state": {
       "_model_module": "@jupyter-widgets/base",
       "_model_module_version": "1.2.0",
       "_model_name": "LayoutModel",
       "_view_count": null,
       "_view_module": "@jupyter-widgets/base",
       "_view_module_version": "1.2.0",
       "_view_name": "LayoutView",
       "align_content": null,
       "align_items": null,
       "align_self": null,
       "border": null,
       "bottom": null,
       "display": null,
       "flex": null,
       "flex_flow": null,
       "grid_area": null,
       "grid_auto_columns": null,
       "grid_auto_flow": null,
       "grid_auto_rows": null,
       "grid_column": null,
       "grid_gap": null,
       "grid_row": null,
       "grid_template_areas": null,
       "grid_template_columns": null,
       "grid_template_rows": null,
       "height": null,
       "justify_content": null,
       "justify_items": null,
       "left": null,
       "margin": null,
       "max_height": null,
       "max_width": null,
       "min_height": null,
       "min_width": null,
       "object_fit": null,
       "object_position": null,
       "order": null,
       "overflow": null,
       "overflow_x": null,
       "overflow_y": null,
       "padding": null,
       "right": null,
       "top": null,
       "visibility": null,
       "width": null
      }
     },
     "e69a7fb5aa894e0e95a4311ee9c05e17": {
      "model_module": "@jupyter-widgets/controls",
      "model_module_version": "1.5.0",
      "model_name": "DescriptionStyleModel",
      "state": {
       "_model_module": "@jupyter-widgets/controls",
       "_model_module_version": "1.5.0",
       "_model_name": "DescriptionStyleModel",
       "_view_count": null,
       "_view_module": "@jupyter-widgets/base",
       "_view_module_version": "1.2.0",
       "_view_name": "StyleView",
       "description_width": ""
      }
     },
     "f172903bb66143c3908534d69830ecec": {
      "model_module": "@jupyter-widgets/base",
      "model_module_version": "1.2.0",
      "model_name": "LayoutModel",
      "state": {
       "_model_module": "@jupyter-widgets/base",
       "_model_module_version": "1.2.0",
       "_model_name": "LayoutModel",
       "_view_count": null,
       "_view_module": "@jupyter-widgets/base",
       "_view_module_version": "1.2.0",
       "_view_name": "LayoutView",
       "align_content": null,
       "align_items": null,
       "align_self": null,
       "border": null,
       "bottom": null,
       "display": null,
       "flex": null,
       "flex_flow": null,
       "grid_area": null,
       "grid_auto_columns": null,
       "grid_auto_flow": null,
       "grid_auto_rows": null,
       "grid_column": null,
       "grid_gap": null,
       "grid_row": null,
       "grid_template_areas": null,
       "grid_template_columns": null,
       "grid_template_rows": null,
       "height": null,
       "justify_content": null,
       "justify_items": null,
       "left": null,
       "margin": null,
       "max_height": null,
       "max_width": null,
       "min_height": null,
       "min_width": null,
       "object_fit": null,
       "object_position": null,
       "order": null,
       "overflow": null,
       "overflow_x": null,
       "overflow_y": null,
       "padding": null,
       "right": null,
       "top": null,
       "visibility": null,
       "width": null
      }
     },
     "f25d36b979234bbbb43c5e92bcf95373": {
      "model_module": "@jupyter-widgets/controls",
      "model_module_version": "1.5.0",
      "model_name": "HBoxModel",
      "state": {
       "_dom_classes": [],
       "_model_module": "@jupyter-widgets/controls",
       "_model_module_version": "1.5.0",
       "_model_name": "HBoxModel",
       "_view_count": null,
       "_view_module": "@jupyter-widgets/controls",
       "_view_module_version": "1.5.0",
       "_view_name": "HBoxView",
       "box_style": "",
       "children": [
        "IPY_MODEL_53ed384575694fe781d8757fefaab8c4",
        "IPY_MODEL_57573c987b3441fb9549b8bc40e4633d",
        "IPY_MODEL_82cdf047667f4eec8dcf8634a2ce5a4f"
       ],
       "layout": "IPY_MODEL_3d83aaa6f5024989a43e825ce11cd5c7"
      }
     },
     "f435f919b2fb4fca95585413c3f4fe9e": {
      "model_module": "@jupyter-widgets/base",
      "model_module_version": "1.2.0",
      "model_name": "LayoutModel",
      "state": {
       "_model_module": "@jupyter-widgets/base",
       "_model_module_version": "1.2.0",
       "_model_name": "LayoutModel",
       "_view_count": null,
       "_view_module": "@jupyter-widgets/base",
       "_view_module_version": "1.2.0",
       "_view_name": "LayoutView",
       "align_content": null,
       "align_items": null,
       "align_self": null,
       "border": null,
       "bottom": null,
       "display": null,
       "flex": null,
       "flex_flow": null,
       "grid_area": null,
       "grid_auto_columns": null,
       "grid_auto_flow": null,
       "grid_auto_rows": null,
       "grid_column": null,
       "grid_gap": null,
       "grid_row": null,
       "grid_template_areas": null,
       "grid_template_columns": null,
       "grid_template_rows": null,
       "height": null,
       "justify_content": null,
       "justify_items": null,
       "left": null,
       "margin": null,
       "max_height": null,
       "max_width": null,
       "min_height": null,
       "min_width": null,
       "object_fit": null,
       "object_position": null,
       "order": null,
       "overflow": null,
       "overflow_x": null,
       "overflow_y": null,
       "padding": null,
       "right": null,
       "top": null,
       "visibility": null,
       "width": null
      }
     },
     "f84e326308514c9293e413c2d1c796c5": {
      "model_module": "@jupyter-widgets/controls",
      "model_module_version": "1.5.0",
      "model_name": "FloatProgressModel",
      "state": {
       "_dom_classes": [],
       "_model_module": "@jupyter-widgets/controls",
       "_model_module_version": "1.5.0",
       "_model_name": "FloatProgressModel",
       "_view_count": null,
       "_view_module": "@jupyter-widgets/controls",
       "_view_module_version": "1.5.0",
       "_view_name": "ProgressView",
       "bar_style": "success",
       "description": "",
       "description_tooltip": null,
       "layout": "IPY_MODEL_6d7c5383317a4a3f9172c4de80807b55",
       "max": 570.0,
       "min": 0.0,
       "orientation": "horizontal",
       "style": "IPY_MODEL_14c7ea4fe87f4cc89c4eb215c912cc45",
       "value": 570.0
      }
     },
     "fc113be980ea4005b3869c63fffc1913": {
      "model_module": "@jupyter-widgets/controls",
      "model_module_version": "1.5.0",
      "model_name": "ProgressStyleModel",
      "state": {
       "_model_module": "@jupyter-widgets/controls",
       "_model_module_version": "1.5.0",
       "_model_name": "ProgressStyleModel",
       "_view_count": null,
       "_view_module": "@jupyter-widgets/base",
       "_view_module_version": "1.2.0",
       "_view_name": "StyleView",
       "bar_color": null,
       "description_width": ""
      }
     }
    },
    "version_major": 2,
    "version_minor": 0
   }
  }
 },
 "nbformat": 4,
 "nbformat_minor": 5
}
